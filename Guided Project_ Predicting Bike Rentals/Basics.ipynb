{
 "cells": [
  {
   "cell_type": "code",
   "execution_count": 2,
   "metadata": {
    "collapsed": true
   },
   "outputs": [],
   "source": [
    "import pandas as pd"
   ]
  },
  {
   "cell_type": "code",
   "execution_count": 3,
   "metadata": {
    "collapsed": false
   },
   "outputs": [],
   "source": [
    "bike_rentals = pd.read_csv('bike_rental_hour.csv')"
   ]
  },
  {
   "cell_type": "code",
   "execution_count": 4,
   "metadata": {
    "collapsed": false
   },
   "outputs": [
    {
     "data": {
      "text/html": [
       "<div>\n",
       "<style scoped>\n",
       "    .dataframe tbody tr th:only-of-type {\n",
       "        vertical-align: middle;\n",
       "    }\n",
       "\n",
       "    .dataframe tbody tr th {\n",
       "        vertical-align: top;\n",
       "    }\n",
       "\n",
       "    .dataframe thead th {\n",
       "        text-align: right;\n",
       "    }\n",
       "</style>\n",
       "<table border=\"1\" class=\"dataframe\">\n",
       "  <thead>\n",
       "    <tr style=\"text-align: right;\">\n",
       "      <th></th>\n",
       "      <th>instant</th>\n",
       "      <th>dteday</th>\n",
       "      <th>season</th>\n",
       "      <th>yr</th>\n",
       "      <th>mnth</th>\n",
       "      <th>hr</th>\n",
       "      <th>holiday</th>\n",
       "      <th>weekday</th>\n",
       "      <th>workingday</th>\n",
       "      <th>weathersit</th>\n",
       "      <th>temp</th>\n",
       "      <th>atemp</th>\n",
       "      <th>hum</th>\n",
       "      <th>windspeed</th>\n",
       "      <th>casual</th>\n",
       "      <th>registered</th>\n",
       "      <th>cnt</th>\n",
       "    </tr>\n",
       "  </thead>\n",
       "  <tbody>\n",
       "    <tr>\n",
       "      <th>0</th>\n",
       "      <td>1</td>\n",
       "      <td>2011-01-01</td>\n",
       "      <td>1</td>\n",
       "      <td>0</td>\n",
       "      <td>1</td>\n",
       "      <td>0</td>\n",
       "      <td>0</td>\n",
       "      <td>6</td>\n",
       "      <td>0</td>\n",
       "      <td>1</td>\n",
       "      <td>0.24</td>\n",
       "      <td>0.2879</td>\n",
       "      <td>0.81</td>\n",
       "      <td>0.0</td>\n",
       "      <td>3</td>\n",
       "      <td>13</td>\n",
       "      <td>16</td>\n",
       "    </tr>\n",
       "    <tr>\n",
       "      <th>1</th>\n",
       "      <td>2</td>\n",
       "      <td>2011-01-01</td>\n",
       "      <td>1</td>\n",
       "      <td>0</td>\n",
       "      <td>1</td>\n",
       "      <td>1</td>\n",
       "      <td>0</td>\n",
       "      <td>6</td>\n",
       "      <td>0</td>\n",
       "      <td>1</td>\n",
       "      <td>0.22</td>\n",
       "      <td>0.2727</td>\n",
       "      <td>0.80</td>\n",
       "      <td>0.0</td>\n",
       "      <td>8</td>\n",
       "      <td>32</td>\n",
       "      <td>40</td>\n",
       "    </tr>\n",
       "    <tr>\n",
       "      <th>2</th>\n",
       "      <td>3</td>\n",
       "      <td>2011-01-01</td>\n",
       "      <td>1</td>\n",
       "      <td>0</td>\n",
       "      <td>1</td>\n",
       "      <td>2</td>\n",
       "      <td>0</td>\n",
       "      <td>6</td>\n",
       "      <td>0</td>\n",
       "      <td>1</td>\n",
       "      <td>0.22</td>\n",
       "      <td>0.2727</td>\n",
       "      <td>0.80</td>\n",
       "      <td>0.0</td>\n",
       "      <td>5</td>\n",
       "      <td>27</td>\n",
       "      <td>32</td>\n",
       "    </tr>\n",
       "    <tr>\n",
       "      <th>3</th>\n",
       "      <td>4</td>\n",
       "      <td>2011-01-01</td>\n",
       "      <td>1</td>\n",
       "      <td>0</td>\n",
       "      <td>1</td>\n",
       "      <td>3</td>\n",
       "      <td>0</td>\n",
       "      <td>6</td>\n",
       "      <td>0</td>\n",
       "      <td>1</td>\n",
       "      <td>0.24</td>\n",
       "      <td>0.2879</td>\n",
       "      <td>0.75</td>\n",
       "      <td>0.0</td>\n",
       "      <td>3</td>\n",
       "      <td>10</td>\n",
       "      <td>13</td>\n",
       "    </tr>\n",
       "    <tr>\n",
       "      <th>4</th>\n",
       "      <td>5</td>\n",
       "      <td>2011-01-01</td>\n",
       "      <td>1</td>\n",
       "      <td>0</td>\n",
       "      <td>1</td>\n",
       "      <td>4</td>\n",
       "      <td>0</td>\n",
       "      <td>6</td>\n",
       "      <td>0</td>\n",
       "      <td>1</td>\n",
       "      <td>0.24</td>\n",
       "      <td>0.2879</td>\n",
       "      <td>0.75</td>\n",
       "      <td>0.0</td>\n",
       "      <td>0</td>\n",
       "      <td>1</td>\n",
       "      <td>1</td>\n",
       "    </tr>\n",
       "  </tbody>\n",
       "</table>\n",
       "</div>"
      ],
      "text/plain": [
       "   instant      dteday  season  yr  mnth  hr  holiday  weekday  workingday  \\\n",
       "0        1  2011-01-01       1   0     1   0        0        6           0   \n",
       "1        2  2011-01-01       1   0     1   1        0        6           0   \n",
       "2        3  2011-01-01       1   0     1   2        0        6           0   \n",
       "3        4  2011-01-01       1   0     1   3        0        6           0   \n",
       "4        5  2011-01-01       1   0     1   4        0        6           0   \n",
       "\n",
       "   weathersit  temp   atemp   hum  windspeed  casual  registered  cnt  \n",
       "0           1  0.24  0.2879  0.81        0.0       3          13   16  \n",
       "1           1  0.22  0.2727  0.80        0.0       8          32   40  \n",
       "2           1  0.22  0.2727  0.80        0.0       5          27   32  \n",
       "3           1  0.24  0.2879  0.75        0.0       3          10   13  \n",
       "4           1  0.24  0.2879  0.75        0.0       0           1    1  "
      ]
     },
     "execution_count": 4,
     "metadata": {},
     "output_type": "execute_result"
    }
   ],
   "source": [
    "bike_rentals.head()"
   ]
  },
  {
   "cell_type": "code",
   "execution_count": 5,
   "metadata": {
    "collapsed": true
   },
   "outputs": [],
   "source": [
    "## In this exercise, I am going to try to predict the total\n",
    "##    number of bike rentals in a given hour using all the other\n",
    "## columns except for casual and registered"
   ]
  },
  {
   "cell_type": "code",
   "execution_count": 10,
   "metadata": {
    "collapsed": false
   },
   "outputs": [
    {
     "data": {
      "text/plain": [
       "<matplotlib.axes._subplots.AxesSubplot at 0x7f6359f0fcc0>"
      ]
     },
     "execution_count": 10,
     "metadata": {},
     "output_type": "execute_result"
    },
    {
     "data": {
      "image/png": "[encoded data removed]",
      "text/plain": [
       "<matplotlib.figure.Figure at 0x7f6359eedcf8>"
      ]
     },
     "metadata": {},
     "output_type": "display_data"
    }
   ],
   "source": [
    "%matplotlib inline\n",
    "bike_rentals['cnt'].plot(kind='hist')"
   ]
  },
  {
   "cell_type": "code",
   "execution_count": 12,
   "metadata": {
    "collapsed": false
   },
   "outputs": [
    {
     "data": {
      "text/plain": [
       "instant       0.278379\n",
       "season        0.178056\n",
       "yr            0.250495\n",
       "mnth          0.120638\n",
       "hr            0.394071\n",
       "holiday      -0.030927\n",
       "weekday       0.026900\n",
       "workingday    0.030284\n",
       "weathersit   -0.142426\n",
       "temp          0.404772\n",
       "atemp         0.400929\n",
       "hum          -0.322911\n",
       "windspeed     0.093234\n",
       "casual        0.694564\n",
       "registered    0.972151\n",
       "cnt           1.000000\n",
       "Name: cnt, dtype: float64"
      ]
     },
     "execution_count": 12,
     "metadata": {},
     "output_type": "execute_result"
    }
   ],
   "source": [
    "bike_rentals.corr()['cnt']"
   ]
  },
  {
   "cell_type": "code",
   "execution_count": 16,
   "metadata": {
    "collapsed": true
   },
   "outputs": [],
   "source": [
    "def assign_label(val):\n",
    "    \n",
    "    if val >=6 and val <12:\n",
    "        return 1\n",
    "    if val >=12 and val <18:\n",
    "        return 2\n",
    "    if val >=18:\n",
    "        return 3\n",
    "    if val >=0 and val <6:\n",
    "        return 4"
   ]
  },
  {
   "cell_type": "code",
   "execution_count": 17,
   "metadata": {
    "collapsed": true
   },
   "outputs": [],
   "source": [
    "bike_rentals['time_label'] = bike_rentals['hr'].apply(assign_label)"
   ]
  },
  {
   "cell_type": "code",
   "execution_count": 18,
   "metadata": {
    "collapsed": false
   },
   "outputs": [
    {
     "data": {
      "text/plain": [
       "2    4375\n",
       "3    4368\n",
       "1    4360\n",
       "4    4276\n",
       "Name: time_label, dtype: int64"
      ]
     },
     "execution_count": 18,
     "metadata": {},
     "output_type": "execute_result"
    }
   ],
   "source": [
    "bike_rentals['time_label'].value_counts()"
   ]
  },
  {
   "cell_type": "markdown",
   "metadata": {},
   "source": [
    "\n",
    "## Error metric\n",
    "The mean squared error metric makes the most sense to evaluate our error. MSE works on continuous numeric data, which fits our data quite well."
   ]
  },
  {
   "cell_type": "code",
   "execution_count": 117,
   "metadata": {
    "collapsed": true
   },
   "outputs": [],
   "source": [
    "train = bike_rentals.sample(frac = .8)"
   ]
  },
  {
   "cell_type": "code",
   "execution_count": 118,
   "metadata": {
    "collapsed": false
   },
   "outputs": [],
   "source": [
    "test = bike_rentals.loc[~bike_rentals.index.isin(train.index)]"
   ]
  },
  {
   "cell_type": "code",
   "execution_count": 119,
   "metadata": {
    "collapsed": true
   },
   "outputs": [],
   "source": [
    "from sklearn.linear_model import LinearRegression\n",
    "from sklearn.metrics import mean_squared_error"
   ]
  },
  {
   "cell_type": "code",
   "execution_count": 120,
   "metadata": {
    "collapsed": true
   },
   "outputs": [],
   "source": [
    "pred_cols = train.columns.tolist()"
   ]
  },
  {
   "cell_type": "code",
   "execution_count": 121,
   "metadata": {
    "collapsed": false
   },
   "outputs": [
    {
     "data": {
      "text/plain": [
       "['instant',\n",
       " 'dteday',\n",
       " 'season',\n",
       " 'yr',\n",
       " 'mnth',\n",
       " 'hr',\n",
       " 'holiday',\n",
       " 'weekday',\n",
       " 'workingday',\n",
       " 'weathersit',\n",
       " 'temp',\n",
       " 'atemp',\n",
       " 'hum',\n",
       " 'windspeed',\n",
       " 'casual',\n",
       " 'registered',\n",
       " 'cnt',\n",
       " 'time_label']"
      ]
     },
     "execution_count": 121,
     "metadata": {},
     "output_type": "execute_result"
    }
   ],
   "source": [
    "pred_cols"
   ]
  },
  {
   "cell_type": "code",
   "execution_count": 122,
   "metadata": {
    "collapsed": false
   },
   "outputs": [],
   "source": [
    "pred_cols.remove('cnt')\n",
    "pred_cols.remove('registered')\n",
    "pred_cols.remove('dteday')\n",
    "pred_cols.remove('casual')\n",
    "\n",
    "\n"
   ]
  },
  {
   "cell_type": "code",
   "execution_count": 123,
   "metadata": {
    "collapsed": true
   },
   "outputs": [],
   "source": [
    "LR = LinearRegression()"
   ]
  },
  {
   "cell_type": "code",
   "execution_count": 124,
   "metadata": {
    "collapsed": false
   },
   "outputs": [
    {
     "data": {
      "text/plain": [
       "LinearRegression(copy_X=True, fit_intercept=True, n_jobs=1, normalize=False)"
      ]
     },
     "execution_count": 124,
     "metadata": {},
     "output_type": "execute_result"
    }
   ],
   "source": [
    "LR.fit(train[pred_cols],train['cnt'])"
   ]
  },
  {
   "cell_type": "code",
   "execution_count": 125,
   "metadata": {
    "collapsed": true
   },
   "outputs": [],
   "source": [
    "test_predictions = LR.predict(test[pred_cols])"
   ]
  },
  {
   "cell_type": "code",
   "execution_count": 126,
   "metadata": {
    "collapsed": false
   },
   "outputs": [
    {
     "data": {
      "text/plain": [
       "16767.662111320857"
      ]
     },
     "execution_count": 126,
     "metadata": {},
     "output_type": "execute_result"
    }
   ],
   "source": [
    "error = mean_squared_error(test['cnt'],test_predictions)\n",
    "\n",
    "error"
   ]
  },
  {
   "cell_type": "markdown",
   "metadata": {},
   "source": [
    "The MSE penalizes larger errors, and the data has some outliers. So it might inflate the numbers. "
   ]
  },
  {
   "cell_type": "code",
   "execution_count": 127,
   "metadata": {
    "collapsed": true
   },
   "outputs": [],
   "source": [
    "from sklearn.tree import DecisionTreeRegressor"
   ]
  },
  {
   "cell_type": "code",
   "execution_count": 177,
   "metadata": {
    "collapsed": false
   },
   "outputs": [
    {
     "name": "stdout",
     "output_type": "stream",
     "text": [
      "Min_leaves: 1 21961.124580064323 0.5\n",
      "Min_leaves: 2 18243.96722083979 1.0\n",
      "Min_leaves: 3 15479.525431793818 1.5\n",
      "Min_leaves: 4 13343.390586704449 2.0\n",
      "Min_leaves: 5 11390.124588242254 2.5\n",
      "Min_leaves: 6 10461.444032114321 3.0\n",
      "Min_leaves: 7 6862.054872587799 3.5\n",
      "Min_leaves: 8 5113.60940159345 4.0\n",
      "Min_leaves: 9 4227.055496172929 4.5\n",
      "Min_leaves: 10 3486.436113392184 5.0\n",
      "Min_leaves: 11 3106.476904986374 5.5\n",
      "Min_leaves: 12 2862.181210164087 6.0\n",
      "Min_leaves: 13 2687.9529999617585 6.5\n",
      "Min_leaves: 14 2667.8366108496625 7.0\n",
      "Min_leaves: 15 2638.3150714790722 7.5\n",
      "Min_leaves: 16 2605.7747256908424 8.0\n",
      "Min_leaves: 17 2558.9998409204513 8.5\n",
      "Min_leaves: 18 2622.0869531198987 9.0\n",
      "Min_leaves: 19 2610.076156634639 9.5\n",
      "Min_leaves: 20 2561.739019690358 10.0\n",
      "Min_leaves: 21 2639.6696154028145 10.5\n",
      "Min_leaves: 22 2584.511264957277 11.0\n",
      "Min_leaves: 23 2561.0246185582096 11.5\n",
      "Min_leaves: 24 2591.539598912701 12.0\n",
      "Min_leaves: 25 2596.970046385036 12.5\n",
      "Min_leaves: 26 2614.75635412671 13.0\n",
      "Min_leaves: 27 2601.169789029536 13.5\n",
      "Min_leaves: 28 2642.259253532157 14.0\n",
      "Min_leaves: 29 2568.3668674082596 14.5\n"
     ]
    }
   ],
   "source": [
    "errors = []\n",
    "for i in range(1,30,1):    \n",
    "    dt = DecisionTreeRegressor(min_samples_leaf=3,\n",
    "                              max_depth = i\n",
    "                              )\n",
    "\n",
    "    dt.fit(train[pred_cols],train['cnt'])\n",
    "\n",
    "    predictions = dt.predict(test[pred_cols])\n",
    "\n",
    "    error = mean_squared_error(test['cnt'],predictions)\n",
    "    print(\"Min_leaves: %s\"%i, error,i/2)\n",
    "    errors.append([i,error,i/2])"
   ]
  },
  {
   "cell_type": "code",
   "execution_count": 178,
   "metadata": {
    "collapsed": false
   },
   "outputs": [
    {
     "data": {
      "text/plain": [
       "<matplotlib.axes._subplots.AxesSubplot at 0x7f634acbba20>"
      ]
     },
     "execution_count": 178,
     "metadata": {},
     "output_type": "execute_result"
    },
    {
     "data": {
      "image/png": "[encoded data removed]",
      "text/plain": [
       "<matplotlib.figure.Figure at 0x7f634a786f60>"
      ]
     },
     "metadata": {},
     "output_type": "display_data"
    }
   ],
   "source": [
    "pd.DataFrame(errors,columns=['Leaves','Error','Max Depth']).set_index('Leaves')['Error'].plot()\n",
    "pd.DataFrame(errors,columns=['Leaves','Error','Max Depth']).set_index('Max Depth')['Error'].plot()"
   ]
  },
  {
   "cell_type": "code",
   "execution_count": 176,
   "metadata": {
    "collapsed": false
   },
   "outputs": [
    {
     "name": "stdout",
     "output_type": "stream",
     "text": [
      "1\n",
      "2\n",
      "3\n",
      "4\n",
      "5\n",
      "6\n",
      "7\n",
      "8\n",
      "9\n"
     ]
    }
   ],
   "source": [
    "for i in range(1,10,): \n",
    "    print(i)"
   ]
  },
  {
   "cell_type": "markdown",
   "metadata": {},
   "source": [
    "The most accurate min_samples_leaf is 3, while for max_depth the error eventually caps out after 17. The minimum samples per leaf will keep us from making overly-specific rules, while the max_depth will make sure we generalize. This two together created the tree with the least error. "
   ]
  },
  {
   "cell_type": "code",
   "execution_count": 182,
   "metadata": {
    "collapsed": true
   },
   "outputs": [],
   "source": [
    "from sklearn.ensemble import RandomForestRegressor\n"
   ]
  },
  {
   "cell_type": "code",
   "execution_count": 187,
   "metadata": {
    "collapsed": false
   },
   "outputs": [
    {
     "name": "stdout",
     "output_type": "stream",
     "text": [
      "Min_leaves: 14 1875.5757681242806 7.0\n",
      "Min_leaves: 15 1818.324439010357 7.5\n",
      "Min_leaves: 16 1754.7266110471805 8.0\n",
      "Min_leaves: 17 1765.907356156502 8.5\n",
      "Min_leaves: 18 1821.8991743383197 9.0\n",
      "Min_leaves: 19 1830.3859608745686 9.5\n",
      "Min_leaves: 20 1806.3380983889524 10.0\n",
      "Min_leaves: 21 1793.4606300345226 10.5\n",
      "Min_leaves: 22 1847.039346950518 11.0\n",
      "Min_leaves: 23 1783.9963837744533 11.5\n",
      "Min_leaves: 24 1761.6591168009206 12.0\n",
      "Min_leaves: 25 1838.3176093210589 12.5\n",
      "Min_leaves: 26 1672.1006501726124 13.0\n",
      "Min_leaves: 27 1801.7881012658227 13.5\n",
      "Min_leaves: 28 1876.629743958573 14.0\n",
      "Min_leaves: 29 1899.8365650172607 14.5\n"
     ]
    }
   ],
   "source": [
    "errors = []\n",
    "for i in range(14,30,1):    \n",
    "    dt = RandomForestRegressor(\n",
    "        min_samples_leaf=1,                           \n",
    "                              #max_depth = i\n",
    "                              )\n",
    "\n",
    "    dt.fit(train[pred_cols],train['cnt'])\n",
    "\n",
    "    predictions = dt.predict(test[pred_cols])\n",
    "\n",
    "    error = mean_squared_error(test['cnt'],predictions)\n",
    "    print(\"Min_leaves: %s\"%i, error,i/2)\n",
    "    errors.append([i,error,i/2])"
   ]
  },
  {
   "cell_type": "markdown",
   "metadata": {},
   "source": [
    "Min_leaves: 17 1763.0013335537635 8.5"
   ]
  },
  {
   "cell_type": "code",
   "execution_count": 189,
   "metadata": {
    "collapsed": false
   },
   "outputs": [
    {
     "name": "stdout",
     "output_type": "stream",
     "text": [
      "Min_leaves: 14 217.42638377445337 7.0\n",
      "Min_leaves: 15 223.84952531645567 7.5\n",
      "Min_leaves: 16 219.4078768699655 8.0\n",
      "Min_leaves: 17 217.29623993095512 8.5\n",
      "Min_leaves: 18 216.5912571921749 9.0\n",
      "Min_leaves: 19 212.69565304948216 9.5\n",
      "Min_leaves: 20 199.2767577675489 10.0\n",
      "Min_leaves: 21 203.7811248561565 10.5\n",
      "Min_leaves: 22 216.16178941311853 11.0\n",
      "Min_leaves: 23 213.6008170310702 11.5\n",
      "Min_leaves: 24 219.68422612197932 12.0\n",
      "Min_leaves: 25 209.8753768699655 12.5\n",
      "Min_leaves: 26 209.58454257767545 13.0\n",
      "Min_leaves: 27 216.22285673187574 13.5\n",
      "Min_leaves: 28 216.24886363636364 14.0\n",
      "Min_leaves: 29 218.66119102416573 14.5\n"
     ]
    }
   ],
   "source": [
    "errors = []\n",
    "for i in range(14,30,1):    \n",
    "    dt = RandomForestRegressor(\n",
    "        min_samples_leaf=1,                           \n",
    "                              #max_depth = i\n",
    "                              )\n",
    "\n",
    "    dt.fit(train[pred_cols],train['casual'])\n",
    "\n",
    "    predictions = dt.predict(test[pred_cols])\n",
    "\n",
    "    error = mean_squared_error(test['casual'],predictions)\n",
    "    print(\"Min_leaves: %s\"%i, error,i/2)\n",
    "    errors.append([i,error,i/2])"
   ]
  },
  {
   "cell_type": "code",
   "execution_count": 190,
   "metadata": {
    "collapsed": false
   },
   "outputs": [
    {
     "name": "stdout",
     "output_type": "stream",
     "text": [
      "Min_leaves: 14 1241.8725258918298 7.0\n",
      "Min_leaves: 15 1307.8038952819331 7.5\n",
      "Min_leaves: 16 1292.207819332566 8.0\n",
      "Min_leaves: 17 1305.3754459148447 8.5\n",
      "Min_leaves: 18 1327.3532393555809 9.0\n",
      "Min_leaves: 19 1251.469522439586 9.5\n",
      "Min_leaves: 20 1373.2706214039124 10.0\n",
      "Min_leaves: 21 1317.2636766398157 10.5\n",
      "Min_leaves: 22 1194.5005523590335 11.0\n",
      "Min_leaves: 23 1231.5758429229002 11.5\n",
      "Min_leaves: 24 1304.0817232451095 12.0\n",
      "Min_leaves: 25 1270.5270598388952 12.5\n",
      "Min_leaves: 26 1230.9035356731874 13.0\n",
      "Min_leaves: 27 1259.777574798619 13.5\n",
      "Min_leaves: 28 1272.4090420023015 14.0\n",
      "Min_leaves: 29 1363.3913003452244 14.5\n"
     ]
    }
   ],
   "source": [
    "errors = []\n",
    "for i in range(14,30,1):    \n",
    "    dt = RandomForestRegressor(\n",
    "        min_samples_leaf=1,                           \n",
    "                              #max_depth = i\n",
    "                              )\n",
    "\n",
    "    dt.fit(train[pred_cols],train['registered'])\n",
    "\n",
    "    predictions = dt.predict(test[pred_cols])\n",
    "\n",
    "    error = mean_squared_error(test['registered'],predictions)\n",
    "    print(\"Min_leaves: %s\"%i, error,i/2)\n",
    "    errors.append([i,error,i/2])"
   ]
  },
  {
   "cell_type": "code",
   "execution_count": null,
   "metadata": {
    "collapsed": true
   },
   "outputs": [],
   "source": []
  }
 ],
 "metadata": {
  "kernelspec": {
   "display_name": "Python 3",
   "language": "python",
   "name": "python3"
  },
  "language_info": {
   "codemirror_mode": {
    "name": "ipython",
    "version": 3
   },
   "file_extension": ".py",
   "mimetype": "text/x-python",
   "name": "python",
   "nbconvert_exporter": "python",
   "pygments_lexer": "ipython3",
   "version": "3.4.3"
  }
 },
 "nbformat": 4,
 "nbformat_minor": 0
}
