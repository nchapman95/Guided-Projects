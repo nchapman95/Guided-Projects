{
 "cells": [
  {
   "cell_type": "code",
   "execution_count": 19,
   "metadata": {
    "collapsed": true
   },
   "outputs": [],
   "source": [
    "import pandas as pd\n",
    "import numpy as np\n",
    "from sklearn.linear_model import LinearRegression\n",
    "from sklearn.metrics import mean_squared_error\n",
    "\n",
    "from sklearn.metrics import mean_squared_error\n",
    "from sklearn import linear_model\n",
    "from sklearn.model_selection import KFold\n",
    "pd.options.display.max_columns = 999"
   ]
  },
  {
   "cell_type": "code",
   "execution_count": 2,
   "metadata": {
    "collapsed": true
   },
   "outputs": [],
   "source": [
    "data = pd.read_table('AmesHousing.tsv')"
   ]
  },
  {
   "cell_type": "code",
   "execution_count": 3,
   "metadata": {
    "collapsed": false
   },
   "outputs": [
    {
     "data": {
      "text/plain": [
       "57088.25161263909"
      ]
     },
     "execution_count": 3,
     "metadata": {},
     "output_type": "execute_result"
    }
   ],
   "source": [
    "def transform_features(DF):\n",
    "    return DF\n",
    "\n",
    "def select_features(df):\n",
    "    return df[[\"Gr Liv Area\", \"SalePrice\"]]\n",
    "\n",
    "\n",
    "def train_and_test(df):\n",
    "    train = df.iloc[:1460]\n",
    "    test = df.iloc[1460:]\n",
    "    train = transform_features(train)\n",
    "    numerical_train = train.select_dtypes(include=['integer','float'])\n",
    "    numerical_test = test.select_dtypes(include=['integer','float'])\n",
    "    features = numerical_train.columns.drop('SalePrice')\n",
    "    \n",
    "    lr = LinearRegression()\n",
    "    lr.fit(train[features],train['SalePrice'])\n",
    "    predictions = lr.predict(test[features])\n",
    "    mse = mean_squared_error(y_pred = predictions, y_true = test['SalePrice'])\n",
    "    rmse = np.sqrt(mse)\n",
    "    return rmse\n",
    "transf = transform_features(data)\n",
    "feature_filter = select_features(transf)\n",
    "rmse = train_and_test(feature_filter)\n",
    "\n",
    "rmse"
   ]
  },
  {
   "cell_type": "code",
   "execution_count": 4,
   "metadata": {
    "collapsed": false
   },
   "outputs": [],
   "source": [
    "temp = data.copy()"
   ]
  },
  {
   "cell_type": "markdown",
   "metadata": {},
   "source": [
    "##Feature Engineering\n",
    "Handle missing values:\n",
    "All columns:\n",
    "\n",
    "Drop any with 5% or more missing values for now.\n",
    "\n",
    "Text columns:\n",
    "Drop any with 1 or more missing values for now.\n",
    "\n",
    "Numerical columns:\n",
    "For columns with missing values, fill in with the most common value in that column\n"
   ]
  },
  {
   "cell_type": "code",
   "execution_count": 5,
   "metadata": {
    "collapsed": false
   },
   "outputs": [
    {
     "name": "stdout",
     "output_type": "stream",
     "text": [
      "1702   -1\n",
      "2180   -2\n",
      "2181   -1\n",
      "dtype: int64\n",
      "(2927, 59)\n"
     ]
    }
   ],
   "source": [
    "missing_val = temp.isnull().sum()\n",
    "\n",
    "drop_cols = [x for x in missing_val.index if missing_val[x] / len(temp) > .05] \n",
    "temp.drop(columns = drop_cols, inplace=True)\n",
    "\n",
    "text_columns = temp.select_dtypes(include='object')\n",
    "text_missing = text_columns.isnull().sum()\n",
    "drop_text_cols = [x for x in text_missing.index if text_missing[x] > 0]\n",
    "temp.drop(columns=drop_text_cols, inplace=True)\n",
    "\n",
    "temp.columns\n",
    "\n",
    "##Filling in numeric columns with the most common value\n",
    "\n",
    "fixable_cols = temp.select_dtypes(include=['float', 'int']).isnull().sum()\n",
    "fixable_cols = fixable_cols[fixable_cols > 0]\n",
    "fixable_cols\n",
    "\n",
    "modes = {}\n",
    "for col in fixable_cols.index:\n",
    "    mode = temp[col].mode()[0]\n",
    "    modes[col] = mode\n",
    "\n",
    "modes\n",
    "temp = temp.fillna(modes)\n",
    "\n",
    "##Creating new variable called years until remodeled to reflect how long it had been since the house had been remodeled.\n",
    "\n",
    "temp['years_until_remod'] = temp['Year Built'] - temp['Year Remod/Add']\n",
    "\n",
    "years_sold = temp['Yr Sold'] - temp['Year Built']\n",
    "\n",
    "\n",
    "sold_after_remod = temp['Yr Sold'] - temp['Year Remod/Add']\n",
    "print(sold_after_remod[sold_after_remod <0])\n",
    "\n",
    "temp = temp.drop(axis = 1, index = [2180,1702,2180,2181])\n",
    "\n",
    "#Dropping columns that aren't useful for machine learning\n",
    "\n",
    "temp = temp.drop(columns=['Order','PID'])\n",
    "\n",
    "#Dropping columns that might leak data about the sale price.\n",
    "\n",
    "temp.drop(columns=['Yr Sold','Mo Sold','Sale Condition','Sale Type'], inplace=True)\n",
    "\n",
    "print(temp.shape)"
   ]
  },
  {
   "cell_type": "code",
   "execution_count": null,
   "metadata": {
    "collapsed": true
   },
   "outputs": [],
   "source": []
  },
  {
   "cell_type": "code",
   "execution_count": 6,
   "metadata": {
    "collapsed": true
   },
   "outputs": [],
   "source": [
    "def transform_features(temp):\n",
    "    \n",
    "    missing_val = temp.isnull().sum()\n",
    "\n",
    "    drop_cols = [x for x in missing_val.index if missing_val[x] / len(temp) > .05] \n",
    "    temp.drop(columns = drop_cols, inplace=True)\n",
    "\n",
    "    text_columns = temp.select_dtypes(include='object')\n",
    "    text_missing = text_columns.isnull().sum()\n",
    "    drop_text_cols = [x for x in text_missing.index if text_missing[x] > 0]\n",
    "    temp.drop(columns=drop_text_cols, inplace=True)\n",
    "\n",
    "    temp.columns\n",
    "\n",
    "    ##Filling in numeric columns with the most common value\n",
    "\n",
    "    fixable_cols = temp.select_dtypes(include=['float', 'int']).isnull().sum()\n",
    "    fixable_cols = fixable_cols[fixable_cols > 0]\n",
    "    fixable_cols\n",
    "\n",
    "    modes = {}\n",
    "    for col in fixable_cols.index:\n",
    "        mode = temp[col].mode()[0]\n",
    "        modes[col] = mode\n",
    "\n",
    "    modes\n",
    "    temp = temp.fillna(modes)\n",
    "\n",
    "    ##Creating new variable called years until remodeled to reflect how long it had been since the house had been remodeled.\n",
    "\n",
    "    temp['years_until_remod'] = temp['Year Built'] - temp['Year Remod/Add']\n",
    "\n",
    "    years_sold = temp['Yr Sold'] - temp['Year Built']\n",
    "\n",
    "\n",
    "    sold_after_remod = temp['Yr Sold'] - temp['Year Remod/Add']\n",
    "\n",
    "    temp = temp.drop(axis = 1, index = [2180,1702,2180,2181])\n",
    "\n",
    "    #Dropping columns that aren't useful for machine learning\n",
    "\n",
    "    temp = temp.drop(columns=['Order','PID'])\n",
    "\n",
    "    #Dropping columns that might leak data about the sale price.\n",
    "\n",
    "    temp.drop(columns=['Yr Sold','Mo Sold','Sale Condition','Sale Type', 'Year Remod/Add','Year Built'], inplace=True)\n",
    "\n",
    "    return temp\n",
    "\n",
    "def select_features(df):\n",
    "    return df[[\"Gr Liv Area\", \"SalePrice\"]]\n",
    "    \n",
    "\n",
    "def train_and_test(df):\n",
    "    train = df.iloc[:1460]\n",
    "    test = df.iloc[1460:]\n",
    "    numerical_train = train.select_dtypes(include=['integer','float'])\n",
    "    numerical_test = test.select_dtypes(include=['integer','float'])\n",
    "    features = numerical_train.columns.drop('SalePrice')\n",
    "    \n",
    "    lr = LinearRegression()\n",
    "    lr.fit(train[features],train['SalePrice'])\n",
    "    predictions = lr.predict(test[features])\n",
    "    mse = mean_squared_error(y_pred = predictions, y_true = test['SalePrice'])\n",
    "    rmse = np.sqrt(mse)\n",
    "    return rmse"
   ]
  },
  {
   "cell_type": "code",
   "execution_count": 7,
   "metadata": {
    "collapsed": false
   },
   "outputs": [
    {
     "data": {
      "text/plain": [
       "55275.36731241307"
      ]
     },
     "execution_count": 7,
     "metadata": {},
     "output_type": "execute_result"
    }
   ],
   "source": [
    "df = pd.read_csv(\"AmesHousing.tsv\", delimiter=\"\\t\")\n",
    "transform_df = transform_features(df)\n",
    "filtered_df = select_features(transform_df)\n",
    "rmse = train_and_test(filtered_df)\n",
    "\n",
    "rmse"
   ]
  },
  {
   "cell_type": "code",
   "execution_count": 16,
   "metadata": {
    "collapsed": true
   },
   "outputs": [],
   "source": [
    "\n",
    "##Drop columns with low correlation\n",
    "data = pd.read_table('AmesHousing.tsv')\n",
    "\n",
    "data = transform_features(data)\n",
    "\n",
    "numerical_features = data.select_dtypes(include=['int','float'])\n",
    "\n",
    "numer_corrs = numerical_features.corr()['SalePrice']\n",
    "numer_corrs = numer_corrs[numer_corrs > .4].sort_values()\n",
    "\n",
    "numer_corrs\n",
    "\n",
    "drop_corrs = numerical_features.corr()['SalePrice']\n",
    "\n",
    "data = data.drop(columns = drop_corrs[drop_corrs < .4].index)\n",
    "\n",
    "numer_corrs\n",
    "\n",
    "## Moving onto Columns that are meant to be categorical. \n",
    "\n",
    "    #Numerical Categorical\n",
    "Fireplaces\n",
    "TotRms AbvGrd\n",
    "Full Bath\n",
    "Garage Cars\n",
    "Overall Qual\n",
    "    ## Object Categorical/Nominal\n",
    "\n",
    "['MS Zoning','Street','Land Contour','Lot Config','Neighborhood','Condition1','Condition2','Bldg Type',\n",
    "'Bldg Type','House Style','Roof Style','Roof Matl']\n",
    "\n",
    "\n",
    "data.select_dtypes(include=['object']).columns\n",
    "\n",
    "nominal_features = [\"PID\", \"MS SubClass\", \"MS Zoning\", \"Street\", \"Alley\", \"Land Contour\", \"Lot Config\", \"Neighborhood\", \n",
    "                    \"Condition 1\", \"Condition 2\", \"Bldg Type\", \"House Style\", \"Roof Style\", \"Roof Matl\", \"Exterior 1st\", \n",
    "                    \"Exterior 2nd\", \"Mas Vnr Type\", \"Foundation\", \"Heating\", \"Central Air\", \"Garage Type\", \n",
    "                    \"Misc Feature\", \"Sale Type\", \"Sale Condition\"]\n",
    "\n",
    "len(nominal_features)\n",
    "\n",
    "transformed_cols = []\n",
    "for col in nominal_features:\n",
    "    if col in data.columns:\n",
    "        transformed_cols.append(col)\n",
    "\n",
    "print(transformed_cols, len(transformed_cols))\n",
    "\n",
    "trans_counts = data[transformed_cols].apply(lambda col: len(col.value_counts()))\n",
    "\n",
    "trans_counts_drop = trans_counts[trans_counts <10]\n",
    "\n",
    "data.drop(columns=trans_counts_drop.index,axis =0,inplace= True)\n",
    "\n",
    "\n",
    "text_columns = data.select_dtypes(include='object')\n",
    "\n",
    "for each in text_columns:\n",
    "    data[each] = data[each].astype('category')\n",
    "\n",
    "data = pd.concat([\n",
    "    data, \n",
    "    pd.get_dummies(data.select_dtypes(include=['category']))\n",
    "], axis=1)"
   ]
  },
  {
   "cell_type": "code",
   "execution_count": 6,
   "metadata": {
    "collapsed": true
   },
   "outputs": [],
   "source": [
    "def transform_features(temp):\n",
    "    \n",
    "    missing_val = temp.isnull().sum()\n",
    "\n",
    "    drop_cols = [x for x in missing_val.index if missing_val[x] / len(temp) > .05] \n",
    "    temp.drop(columns = drop_cols, inplace=True)\n",
    "\n",
    "    text_columns = temp.select_dtypes(include='object')\n",
    "    text_missing = text_columns.isnull().sum()\n",
    "    drop_text_cols = [x for x in text_missing.index if text_missing[x] > 0]\n",
    "    temp.drop(columns=drop_text_cols, inplace=True)\n",
    "\n",
    "    temp.columns\n",
    "\n",
    "    ##Filling in numeric columns with the most common value\n",
    "\n",
    "    fixable_cols = temp.select_dtypes(include=['float', 'int']).isnull().sum()\n",
    "    fixable_cols = fixable_cols[fixable_cols > 0]\n",
    "    fixable_cols\n",
    "\n",
    "    modes = {}\n",
    "    for col in fixable_cols.index:\n",
    "        mode = temp[col].mode()[0]\n",
    "        modes[col] = mode\n",
    "\n",
    "    modes\n",
    "    temp = temp.fillna(modes)\n",
    "\n",
    "    ##Creating new variable called years until remodeled to reflect how long it had been since the house had been remodeled.\n",
    "\n",
    "    temp['years_until_remod'] = temp['Year Built'] - temp['Year Remod/Add']\n",
    "\n",
    "    years_sold = temp['Yr Sold'] - temp['Year Built']\n",
    "\n",
    "\n",
    "    sold_after_remod = temp['Yr Sold'] - temp['Year Remod/Add']\n",
    "\n",
    "    temp = temp.drop(axis = 1, index = [2180,1702,2180,2181])\n",
    "\n",
    "    #Dropping columns that aren't useful for machine learning\n",
    "\n",
    "    temp = temp.drop(columns=['Order','PID'])\n",
    "\n",
    "    #Dropping columns that might leak data about the sale price.\n",
    "\n",
    "    temp.drop(columns=['Yr Sold','Mo Sold','Sale Condition','Sale Type', 'Year Remod/Add','Year Built'], inplace=True)\n",
    "\n",
    "    return temp\n",
    "\n",
    "def select_features(df, coeff_threshold=0.4, uniq_threshold=10):\n",
    "    numerical_df = df.select_dtypes(include=['int', 'float'])\n",
    "    abs_corr_coeffs = numerical_df.corr()['SalePrice'].abs().sort_values()\n",
    "    df = df.drop(abs_corr_coeffs[abs_corr_coeffs < coeff_threshold].index, axis=1)\n",
    "    \n",
    "    nominal_features = [\"PID\", \"MS SubClass\", \"MS Zoning\", \"Street\", \"Alley\", \"Land Contour\", \"Lot Config\", \"Neighborhood\", \n",
    "                    \"Condition 1\", \"Condition 2\", \"Bldg Type\", \"House Style\", \"Roof Style\", \"Roof Matl\", \"Exterior 1st\", \n",
    "                    \"Exterior 2nd\", \"Mas Vnr Type\", \"Foundation\", \"Heating\", \"Central Air\", \"Garage Type\", \n",
    "                    \"Misc Feature\", \"Sale Type\", \"Sale Condition\"]\n",
    "    \n",
    "    transform_cat_cols = []\n",
    "    for col in nominal_features:\n",
    "        if col in df.columns:\n",
    "            transform_cat_cols.append(col)\n",
    "\n",
    "    uniqueness_counts = df[transform_cat_cols].apply(lambda col: len(col.value_counts())).sort_values()\n",
    "    drop_nonuniq_cols = uniqueness_counts[uniqueness_counts > 10].index\n",
    "    df = df.drop(drop_nonuniq_cols, axis=1)\n",
    "    \n",
    "    text_cols = df.select_dtypes(include=['object'])\n",
    "    for col in text_cols:\n",
    "        df[col] = df[col].astype('category')\n",
    "    df = pd.concat([df, pd.get_dummies(df.select_dtypes(include=['category']))], axis=1)\n",
    "    \n",
    "    return df\n",
    "    \n",
    "\n",
    "def train_and_test(df):\n",
    "    train = df.iloc[:1460]\n",
    "    test = df.iloc[1460:]\n",
    "    numerical_train = train.select_dtypes(include=['integer','float'])\n",
    "    numerical_test = test.select_dtypes(include=['integer','float'])\n",
    "    features = numerical_train.columns.drop('SalePrice')\n",
    "    \n",
    "    lr = LinearRegression()\n",
    "    lr.fit(train[features],train['SalePrice'])\n",
    "    predictions = lr.predict(test[features])\n",
    "    mse = mean_squared_error(y_pred = predictions, y_true = test['SalePrice'])\n",
    "    rmse = np.sqrt(mse)\n",
    "    return rmse"
   ]
  },
  {
   "cell_type": "code",
   "execution_count": 7,
   "metadata": {
    "collapsed": false
   },
   "outputs": [
    {
     "data": {
      "text/plain": [
       "33447.420154009684"
      ]
     },
     "execution_count": 7,
     "metadata": {},
     "output_type": "execute_result"
    }
   ],
   "source": [
    "df = pd.read_csv(\"AmesHousing.tsv\", delimiter=\"\\t\")\n",
    "transform_df = transform_features(df)\n",
    "filtered_df = select_features(transform_df)\n",
    "rmse = train_and_test(filtered_df)\n",
    "\n",
    "rmse"
   ]
  },
  {
   "cell_type": "code",
   "execution_count": 10,
   "metadata": {
    "collapsed": true
   },
   "outputs": [],
   "source": [
    "def train_and_test(df, k=0):\n",
    "    numeric_df = df.select_dtypes(include=['integer', 'float'])\n",
    "    features = numeric_df.columns.drop(\"SalePrice\")\n",
    "    lr = linear_model.LinearRegression()\n",
    "    \n",
    "    if k == 0:\n",
    "        \n",
    "        train = df.iloc[:1460]\n",
    "        test = df.iloc[1460:]\n",
    "        \n",
    "        lr.fit(train[features],train['SalePrice'])\n",
    "        predictions = lr.predict(test[features])\n",
    "        mse = mean_squared_error(y_pred = predictions, y_true = test['SalePrice'])\n",
    "        rmse = np.sqrt(mse)\n",
    "        return rmse\n",
    "    if k ==1:\n",
    "        shuffled_df = df.sample(frac=1, )\n",
    "        fold_one = df.iloc[:1460]\n",
    "        fold_two = df.iloc[1460:]\n",
    "\n",
    "       \n",
    "        lr.fit(fold_one[features],fold_one['SalePrice'])\n",
    "        predictions_one = lr.predict(fold_two[features])\n",
    "        one_mse = mean_squared_error(y_pred = predictions_one, y_true = fold_two['SalePrice'])\n",
    "        one_rmse = np.sqrt(one_mse)\n",
    "        \n",
    "        lr.fit(fold_two[features], fold_two['SalePrice'])\n",
    "        predictions_two = lr.predict(fold_one[features])\n",
    "        two_mse = mean_squared_error(y_pred=predictions_two, y_true=fold_one['SalePrice'])\n",
    "        two_rmse = np.sqrt(two_mse)\n",
    "        \n",
    "        print(one_rmse, two_rmse)\n",
    "        avg_rmse = np.mean([one_rmse,two_rmse])\n",
    "        return(avg_rmse)\n",
    "    else:\n",
    "        kf = KFold(n_splits = k, shuffle=True)\n",
    "        rmse_values =[]\n",
    "        for train_index, test_index in kf.fit(df):\n",
    "            train = df.iloc[train_index]\n",
    "            test = df.iloc[test_index]\n",
    "            lr.fit(train[features],train['SalePrice'])\n",
    "            predictions_temp = lr.predict(test[features])\n",
    "            mse = mean_squared_error(y_pred = predictions_temp, y_true = test['SalePrice'])\n",
    "            rmse = np.sqrt(mse)\n",
    "            rmse_values.append(rmse)\n",
    "        print(rmse_values)\n",
    "        avg_rmse = np.mean(rmse_values)\n",
    "        return(avg_rmse)\n",
    "            \n",
    "    \n",
    "    \n",
    "    \n",
    "    \n",
    "    \n",
    "    \n",
    "    \n",
    "    \n",
    "    "
   ]
  },
  {
   "cell_type": "code",
   "execution_count": 13,
   "metadata": {
    "collapsed": true
   },
   "outputs": [],
   "source": [
    "def transform_features(temp):\n",
    "    \n",
    "    missing_val = temp.isnull().sum()\n",
    "\n",
    "    drop_cols = [x for x in missing_val.index if missing_val[x] / len(temp) > .05] \n",
    "    temp.drop(columns = drop_cols, inplace=True)\n",
    "\n",
    "    text_columns = temp.select_dtypes(include='object')\n",
    "    text_missing = text_columns.isnull().sum()\n",
    "    drop_text_cols = [x for x in text_missing.index if text_missing[x] > 0]\n",
    "    temp.drop(columns=drop_text_cols, inplace=True)\n",
    "\n",
    "    temp.columns\n",
    "\n",
    "    ##Filling in numeric columns with the most common value\n",
    "\n",
    "    fixable_cols = temp.select_dtypes(include=['float', 'int']).isnull().sum()\n",
    "    fixable_cols = fixable_cols[fixable_cols > 0]\n",
    "    fixable_cols\n",
    "\n",
    "    modes = {}\n",
    "    for col in fixable_cols.index:\n",
    "        mode = temp[col].mode()[0]\n",
    "        modes[col] = mode\n",
    "\n",
    "    modes\n",
    "    temp = temp.fillna(modes)\n",
    "\n",
    "    ##Creating new variable called years until remodeled to reflect how long it had been since the house had been remodeled.\n",
    "\n",
    "    temp['years_until_remod'] = temp['Year Built'] - temp['Year Remod/Add']\n",
    "\n",
    "    years_sold = temp['Yr Sold'] - temp['Year Built']\n",
    "\n",
    "\n",
    "    sold_after_remod = temp['Yr Sold'] - temp['Year Remod/Add']\n",
    "\n",
    "    temp = temp.drop(axis = 1, index = [2180,1702,2180,2181])\n",
    "\n",
    "    #Dropping columns that aren't useful for machine learning\n",
    "\n",
    "    temp = temp.drop(columns=['Order','PID'])\n",
    "\n",
    "    #Dropping columns that might leak data about the sale price.\n",
    "\n",
    "    temp.drop(columns=['Yr Sold','Mo Sold','Sale Condition','Sale Type', 'Year Remod/Add','Year Built'], inplace=True)\n",
    "\n",
    "    return temp\n",
    "\n",
    "def select_features(df, coeff_threshold=0.4, uniq_threshold=10):\n",
    "    numerical_df = df.select_dtypes(include=['int', 'float'])\n",
    "    abs_corr_coeffs = numerical_df.corr()['SalePrice'].abs().sort_values()\n",
    "    df = df.drop(abs_corr_coeffs[abs_corr_coeffs < coeff_threshold].index, axis=1)\n",
    "    \n",
    "    nominal_features = [\"PID\", \"MS SubClass\", \"MS Zoning\", \"Street\", \"Alley\", \"Land Contour\", \"Lot Config\", \"Neighborhood\", \n",
    "                    \"Condition 1\", \"Condition 2\", \"Bldg Type\", \"House Style\", \"Roof Style\", \"Roof Matl\", \"Exterior 1st\", \n",
    "                    \"Exterior 2nd\", \"Mas Vnr Type\", \"Foundation\", \"Heating\", \"Central Air\", \"Garage Type\", \n",
    "                    \"Misc Feature\", \"Sale Type\", \"Sale Condition\"]\n",
    "    \n",
    "    transform_cat_cols = []\n",
    "    for col in nominal_features:\n",
    "        if col in df.columns:\n",
    "            transform_cat_cols.append(col)\n",
    "\n",
    "    uniqueness_counts = df[transform_cat_cols].apply(lambda col: len(col.value_counts())).sort_values()\n",
    "    drop_nonuniq_cols = uniqueness_counts[uniqueness_counts > 10].index\n",
    "    df = df.drop(drop_nonuniq_cols, axis=1)\n",
    "    \n",
    "    text_cols = df.select_dtypes(include=['object'])\n",
    "    for col in text_cols:\n",
    "        df[col] = df[col].astype('category')\n",
    "    df = pd.concat([df, pd.get_dummies(df.select_dtypes(include=['category']))], axis=1)\n",
    "    \n",
    "    return df\n",
    "\n",
    "def train_and_test(df, k=0):\n",
    "    numeric_df = df.select_dtypes(include=['integer', 'float'])\n",
    "    features = numeric_df.columns.drop(\"SalePrice\")\n",
    "    lr = linear_model.LinearRegression()\n",
    "    \n",
    "    if k == 0:\n",
    "        \n",
    "        train = df.iloc[:1460]\n",
    "        test = df.iloc[1460:]\n",
    "        \n",
    "        lr.fit(train[features],train['SalePrice'])\n",
    "        predictions = lr.predict(test[features])\n",
    "        mse = mean_squared_error(y_pred = predictions, y_true = test['SalePrice'])\n",
    "        rmse = np.sqrt(mse)\n",
    "        return rmse\n",
    "    if k ==1:\n",
    "        shuffled_df = df.sample(frac=1, )\n",
    "        fold_one = df.iloc[:1460]\n",
    "        fold_two = df.iloc[1460:]\n",
    "\n",
    "       \n",
    "        lr.fit(fold_one[features],fold_one['SalePrice'])\n",
    "        predictions_one = lr.predict(fold_two[features])\n",
    "        one_mse = mean_squared_error(y_pred = predictions_one, y_true = fold_two['SalePrice'])\n",
    "        one_rmse = np.sqrt(one_mse)\n",
    "        \n",
    "        lr.fit(fold_two[features], fold_two['SalePrice'])\n",
    "        predictions_two = lr.predict(fold_one[features])\n",
    "        two_mse = mean_squared_error(y_pred=predictions_two, y_true=fold_one['SalePrice'])\n",
    "        two_rmse = np.sqrt(two_mse)\n",
    "        \n",
    "        print(one_rmse, two_rmse)\n",
    "        avg_rmse = np.mean([one_rmse,two_rmse])\n",
    "        return(avg_rmse)\n",
    "    else:\n",
    "        kf = KFold(n_splits = k, shuffle=True)\n",
    "        rmse_values =[]\n",
    "        for train_index, test_index in kf.split(df):\n",
    "            train = df.iloc[train_index]\n",
    "            test = df.iloc[test_index]\n",
    "            lr.fit(train[features],train['SalePrice'])\n",
    "            predictions_temp = lr.predict(test[features])\n",
    "            mse = mean_squared_error(y_pred = predictions_temp, y_true = test['SalePrice'])\n",
    "            rmse = np.sqrt(mse)\n",
    "            rmse_values.append(rmse)\n",
    "        print(rmse_values)\n",
    "        avg_rmse = np.mean(rmse_values)\n",
    "        return(avg_rmse)\n"
   ]
  },
  {
   "cell_type": "code",
   "execution_count": 15,
   "metadata": {
    "collapsed": false
   },
   "outputs": [
    {
     "name": "stdout",
     "output_type": "stream",
     "text": [
      "[25492.00348398577, 29195.86503268019, 26257.78433398567, 36517.49390408304]\n"
     ]
    },
    {
     "data": {
      "text/plain": [
       "29365.786688683664"
      ]
     },
     "execution_count": 15,
     "metadata": {},
     "output_type": "execute_result"
    }
   ],
   "source": [
    "df = pd.read_csv(\"AmesHousing.tsv\", delimiter=\"\\t\")\n",
    "transform_df = transform_features(df)\n",
    "filtered_df = select_features(transform_df)\n",
    "rmse = train_and_test(filtered_df, k=4)\n",
    "\n",
    "rmse"
   ]
  },
  {
   "cell_type": "code",
   "execution_count": 16,
   "metadata": {
    "collapsed": false
   },
   "outputs": [
    {
     "name": "stdout",
     "output_type": "stream",
     "text": [
      "[28969.309872520593, 36078.1581345842, 28745.35414438099, 24240.59661584251]\n"
     ]
    },
    {
     "data": {
      "text/plain": [
       "29508.354691832075"
      ]
     },
     "execution_count": 16,
     "metadata": {},
     "output_type": "execute_result"
    }
   ],
   "source": [
    "df = pd.read_csv(\"AmesHousing.tsv\", delimiter=\"\\t\")\n",
    "transform_df = transform_features(df)\n",
    "filtered_df = select_features(transform_df)\n",
    "rmse = train_and_test(filtered_df, k=4)\n",
    "\n",
    "rmse"
   ]
  },
  {
   "cell_type": "code",
   "execution_count": 17,
   "metadata": {
    "collapsed": true
   },
   "outputs": [],
   "source": [
    "df = pd.read_csv(\"AmesHousing.tsv\", delimiter=\"\\t\")\n",
    "transform_df = transform_features(df)\n",
    "filtered_df = select_features(transform_df)"
   ]
  },
  {
   "cell_type": "code",
   "execution_count": 31,
   "metadata": {
    "collapsed": false
   },
   "outputs": [
    {
     "data": {
      "text/plain": [
       "Index(['MS SubClass', 'Lot Area', 'Overall Qual', 'Overall Cond', '1st Flr SF',\n",
       "       '2nd Flr SF', 'Low Qual Fin SF', 'Gr Liv Area', 'Full Bath',\n",
       "       'Half Bath', 'Bedroom AbvGr', 'Kitchen AbvGr', 'TotRms AbvGrd',\n",
       "       'Fireplaces', 'Wood Deck SF', 'Open Porch SF', 'Enclosed Porch',\n",
       "       '3Ssn Porch', 'Screen Porch', 'Pool Area', 'Misc Val', 'SalePrice',\n",
       "       'years_until_remod'],\n",
       "      dtype='object')"
      ]
     },
     "execution_count": 31,
     "metadata": {},
     "output_type": "execute_result"
    }
   ],
   "source": [
    "transform_df.select_dtypes(include=['int']).columns"
   ]
  },
  {
   "cell_type": "code",
   "execution_count": 32,
   "metadata": {
    "collapsed": false
   },
   "outputs": [
    {
     "data": {
      "text/plain": [
       "Index(['MS Zoning', 'Street', 'Lot Shape', 'Land Contour', 'Utilities',\n",
       "       'Lot Config', 'Land Slope', 'Condition 1', 'Condition 2', 'Bldg Type',\n",
       "       'House Style', 'Roof Style', 'Roof Matl', 'Exter Qual', 'Exter Cond',\n",
       "       'Foundation', 'Heating', 'Heating QC', 'Central Air', 'Kitchen Qual',\n",
       "       'Functional', 'Paved Drive'],\n",
       "      dtype='object')"
      ]
     },
     "execution_count": 32,
     "metadata": {},
     "output_type": "execute_result"
    }
   ],
   "source": [
    "filtered_df.select_dtypes(include=['category']).columns"
   ]
  },
  {
   "cell_type": "code",
   "execution_count": 42,
   "metadata": {
    "collapsed": false
   },
   "outputs": [],
   "source": [
    "cols =[]\n",
    "for i in transform_df.select_dtypes(include=['int']).columns:\n",
    "    if i in filtered_df.columns:\n",
    "        cols.append(i)"
   ]
  },
  {
   "cell_type": "code",
   "execution_count": 43,
   "metadata": {
    "collapsed": false
   },
   "outputs": [
    {
     "data": {
      "text/plain": [
       "['Overall Qual',\n",
       " '1st Flr SF',\n",
       " 'Gr Liv Area',\n",
       " 'Full Bath',\n",
       " 'TotRms AbvGrd',\n",
       " 'Fireplaces',\n",
       " 'SalePrice']"
      ]
     },
     "execution_count": 43,
     "metadata": {},
     "output_type": "execute_result"
    }
   ],
   "source": [
    "cols"
   ]
  },
  {
   "cell_type": "code",
   "execution_count": 45,
   "metadata": {
    "collapsed": false
   },
   "outputs": [
    {
     "data": {
      "text/plain": [
       "dtype('int64')"
      ]
     },
     "execution_count": 45,
     "metadata": {},
     "output_type": "execute_result"
    }
   ],
   "source": []
  },
  {
   "cell_type": "code",
   "execution_count": null,
   "metadata": {
    "collapsed": true
   },
   "outputs": [],
   "source": []
  }
 ],
 "metadata": {
  "anaconda-cloud": {},
  "kernelspec": {
   "display_name": "Python 3",
   "language": "python",
   "name": "python3"
  },
  "language_info": {
   "codemirror_mode": {
    "name": "ipython",
    "version": 3
   },
   "file_extension": ".py",
   "mimetype": "text/x-python",
   "name": "python",
   "nbconvert_exporter": "python",
   "pygments_lexer": "ipython3",
   "version": "3.4.3"
  }
 },
 "nbformat": 4,
 "nbformat_minor": 2
}
